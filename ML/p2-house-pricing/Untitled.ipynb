{
 "cells": [
  {
   "cell_type": "code",
   "execution_count": 77,
   "metadata": {},
   "outputs": [],
   "source": [
    "import numpy as np\n",
    "\n",
    "x_train = np.load('x_train.npy')\n",
    "y_train = np.load('y_train.npy')\n",
    "x_test  = np.load('x_test.npy')"
   ]
  },
  {
   "cell_type": "code",
   "execution_count": 79,
   "metadata": {},
   "outputs": [
    {
     "name": "stdout",
     "output_type": "stream",
     "text": [
      "[('16328', 5., 3.25, 3710,  34200, 2., False, 3, 8, 2510, 1200, 1986,    0, 98074, 47.6101, -122.047)\n",
      " ('16391', 3., 1.75, 2820,   8879, 1., False, 5, 7, 1540, 1280, 1920, 1957, 98146, 47.5094, -122.376)\n",
      " ('16383', 3., 1.  , 1240, 239144, 1., False, 3, 6, 1240,    0, 1921, 1992, 98038, 47.4303, -122.046)\n",
      " ...\n",
      " ('16261', 2., 1.  ,  640,   7768, 1., False, 3, 6,  640,    0, 1942,    0, 98106, 47.515 , -122.359)\n",
      " ('16204', 3., 1.  , 1630,  10304, 1., False, 5, 7, 1630,    0, 1953,    0, 98155, 47.7548, -122.317)\n",
      " ('16393', 2., 1.  ,  720,   4592, 1., False, 4, 6,  720,    0, 1943,    0, 98199, 47.6534, -122.404)]\n"
     ]
    }
   ],
   "source": [
    "import time\n",
    "import datetime\n",
    "\n",
    "for line in x_train:\n",
    "    line[0] = int(time.mktime(datetime.datetime.strptime(line[0], \"%Y-%m-%d\").timetuple()) / (24*60*60))\n",
    "print(x_train)"
   ]
  },
  {
   "cell_type": "code",
   "execution_count": 80,
   "metadata": {},
   "outputs": [],
   "source": [
    "x_train = np.array(list(x_train), dtype=np.dtype([(x[0], np.float32) for x in x_train.dtype.descr]))\n",
    "from sklearn.model_selection import train_test_split\n",
    "xtrain, xtest, ytrain, ytest = train_test_split(x_train, y_train, test_size=0.3, random_state=42)"
   ]
  },
  {
   "cell_type": "code",
   "execution_count": 123,
   "metadata": {},
   "outputs": [
    {
     "data": {
      "image/png": "[encoded data removed]",
      "text/plain": [
       "<matplotlib.figure.Figure at 0x7f371a0857f0>"
      ]
     },
     "metadata": {},
     "output_type": "display_data"
    }
   ],
   "source": [
    "tmp = y_train.copy()\n",
    "m = tmp.mean()\n",
    "for i in range(0, tmp.shape[0]):\n",
    "    if tmp[i] < m/5:\n",
    "        tmp[i] = m/5\n",
    "    if tmp[i] > 5*m:\n",
    "        tmp[i] = 5*m\n",
    "\n",
    "        \n",
    "from matplotlib import pyplot as plt\n",
    "plt.scatter(x_train['long'], tmp)\n",
    "plt.show()"
   ]
  },
  {
   "cell_type": "code",
   "execution_count": 126,
   "metadata": {},
   "outputs": [
    {
     "data": {
      "text/plain": [
       "(-121.315, -122.519)"
      ]
     },
     "execution_count": 126,
     "metadata": {},
     "output_type": "execute_result"
    }
   ],
   "source": [
    "(x_train['long'].max(), x_train['long'].min())"
   ]
  },
  {
   "cell_type": "code",
   "execution_count": 127,
   "metadata": {},
   "outputs": [
    {
     "data": {
      "text/plain": [
       "(47.7776, 47.1559)"
      ]
     },
     "execution_count": 127,
     "metadata": {},
     "output_type": "execute_result"
    }
   ],
   "source": [
    "(x_train['lat'].max(), x_train['lat'].min())"
   ]
  },
  {
   "cell_type": "code",
   "execution_count": null,
   "metadata": {},
   "outputs": [],
   "source": []
  },
  {
   "cell_type": "code",
   "execution_count": null,
   "metadata": {},
   "outputs": [],
   "source": []
  },
  {
   "cell_type": "code",
   "execution_count": null,
   "metadata": {},
   "outputs": [],
   "source": []
  },
  {
   "cell_type": "code",
   "execution_count": null,
   "metadata": {},
   "outputs": [],
   "source": []
  },
  {
   "cell_type": "code",
   "execution_count": null,
   "metadata": {},
   "outputs": [],
   "source": []
  }
 ],
 "metadata": {
  "kernelspec": {
   "display_name": "Python 3",
   "language": "python",
   "name": "python3"
  },
  "language_info": {
   "codemirror_mode": {
    "name": "ipython",
    "version": 3
   },
   "file_extension": ".py",
   "mimetype": "text/x-python",
   "name": "python",
   "nbconvert_exporter": "python",
   "pygments_lexer": "ipython3",
   "version": "3.6.4"
  }
 },
 "nbformat": 4,
 "nbformat_minor": 2
}
