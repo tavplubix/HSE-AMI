{
  "nbformat": 4,
  "nbformat_minor": 0,
  "metadata": {
    "kernelspec": {
      "display_name": "Python 3",
      "language": "python",
      "name": "python3"
    },
    "language_info": {
      "codemirror_mode": {
        "name": "ipython",
        "version": 3
      },
      "file_extension": ".py",
      "mimetype": "text/x-python",
      "name": "python",
      "nbconvert_exporter": "python",
      "pygments_lexer": "ipython3",
      "version": "3.5.4"
    },
    "colab": {
      "name": "HW2.ipynb",
      "provenance": [],
      "collapsed_sections": []
    }
  },
  "cells": [
    {
      "cell_type": "code",
      "metadata": {
        "id": "uvMYh-nazjTM",
        "colab_type": "code",
        "colab": {}
      },
      "source": [
        "import numpy as np\n",
        "import matplotlib.pyplot as plt\n",
        "import scipy.special\n",
        "%matplotlib inline"
      ],
      "execution_count": 0,
      "outputs": []
    },
    {
      "cell_type": "markdown",
      "metadata": {
        "id": "VvwL9Bx4zjTh",
        "colab_type": "text"
      },
      "source": [
        "# Домашнее задание 2\n",
        "\n",
        "## Методы интегрирования (30 баллов)\n",
        "\n",
        "Пусть $f: R \\to R$ -- некоторая (достаточно) гладкая функция, с известными значениями $f(x_i)$ в точках $x_i$. Требуется вычислить интеграл\n",
        "\\[\n",
        "\\int_a^b f(x) dx.\n",
        "\\]\n",
        "Для этого будем использовать составные формулы Ньютона-Котеса.\n",
        "\n",
        "### Составные формулы для произвольной сетки\n",
        "\n",
        "Будем полагать сетку произвольной, если сетка равномерная (что на практике бывает не всегда), то формулы хорошо известны.\n",
        "\n",
        "#### Запись формул (5 баллов)\n",
        "\n",
        "Формулы Ньютона-Котеса -- формулы, которые получаются при интегрировании интерполяционного многочлена. Пусть мы используем $K$ элементарных отрезков, на каждом из которых есть $n$ узлов (включая два крайних). Выпишите простую и составную формулу интегрирования. \n",
        "\n",
        "#### ВАШЕ РЕШЕНИЕ ЗДЕСЬ\n",
        "\n",
        "Выпишите аналогичные формулы, которые получаются при интерполировании функции $f$ кубическим сплайном дефекта 1.\n",
        "\n",
        "#### ВАШЕ РЕШЕНИЕ ЗДЕСЬ\n",
        "\n",
        "#### Программная реализация (10 баллов)\n",
        "\n",
        "Реализуйте два метода интегрирования: на формулах Ньютона-Котеса и на кубических сплайнах дефекта 1. Для вычисления коэффициентов интерполяции можете использовать готовые решения из предыдущих домашних и семинарских работ."
      ]
    },
    {
      "cell_type": "code",
      "metadata": {
        "id": "cTswr_LEzjTr",
        "colab_type": "code",
        "colab": {}
      },
      "source": [
        "class NewtonInterpolator:\n",
        "    def __init__(self,xs,fs):\n",
        "        self.fs = fs\n",
        "        self.xs = xs\n",
        "        self.diffs = [self.fs]\n",
        "        for i in np.arange(1,len(self.fs)):\n",
        "            diff = np.array([ (self.diffs[-1][k+1]-self.diffs[-1][k])/(self.xs[i+k]-self.xs[k])\\\n",
        "                          for k in np.arange(len(self.diffs[-1])-1)])\n",
        "            self.diffs = self.diffs +[diff]\n",
        "        self.coefs = np.array([ self.diffs[k][0] for k in np.arange(len(self.diffs))])\n",
        "        self.cs = list()\n",
        "        for j in range(0, len(xs)):\n",
        "            xj = np.ones(len(xs) - 1) * xs[j]\n",
        "            xk = np.concatenate((xs[:j], xs[(j+1):]))\n",
        "            pint = np.polynomial.polynomial.polyint(np.polynomial.polynomial.polyfromroots(xk))\n",
        "            I = np.polynomial.polynomial.polyval(xs[-1], pint) - np.polynomial.polynomial.polyval(xs[0], pint)\n",
        "            self.cs.append(I * fs[j] / (xj - xk).prod())\n",
        "        self.I = np.sum(self.cs)\n",
        "        \n",
        "    def Compute(self,x):\n",
        "        #print(x)\n",
        "        if(x.shape[0]>1):\n",
        "            vals = np.cumprod( x[:,None] - self.xs[None,:], axis=-1)[:,:-1]\n",
        "        else:\n",
        "            vals = np.cumprod( x - self.xs[None,:], axis=-1)[:,:-1]\n",
        "        vals = np.concatenate([np.ones([x.shape[0],1]), vals],axis=-1)\n",
        "        return vals@self.coefs\n",
        "    \n",
        "\n",
        "class PiecewiseNewtonInterpolator:\n",
        "    def name(self):\n",
        "        return \"PiecewiseNewton, N=\" + str(self.N)\n",
        "    def __init__(self,xs,fs, N):\n",
        "        self.N = N\n",
        "        self.M = (len(xs) - 1) / (N - 1)\n",
        "        assert(int(self.M) == self.M)\n",
        "        self.M = int(self.M)\n",
        "        assert((xs == sorted(xs)).all())\n",
        "        self.xs = xs\n",
        "        self.polys = list()\n",
        "        self.bxs = list()\n",
        "        self.I = 0\n",
        "        for i in range(0, self.M):\n",
        "          a = i*(N-1)\n",
        "          b = a + N\n",
        "          self.bxs.append(xs[a])\n",
        "          self.polys.append(NewtonInterpolator(xs[a:b], fs[a:b]))\n",
        "          self.I += self.polys[-1].I\n",
        "        self._compute = np.vectorize(lambda x: self._c(x))\n",
        "\n",
        "    def _c(self, x):\n",
        "        i = 0\n",
        "        while i < len(self.bxs) - 1 and self.bxs[i+1] < x:\n",
        "          i+=1\n",
        "        return self.polys[i].Compute(np.ones(1)*x)\n",
        "\n",
        "    def Compute(self,xs):\n",
        "        return self._compute(xs)\n",
        "    \n",
        "class CubicSplineInterpolator:\n",
        "    def name(self):\n",
        "        return \"Spline\"\n",
        "\n",
        "    def __init__(self,xGrid,fGrid, ddSa = 0., ddSb = 0.):\n",
        "        self.xs = xGrid\n",
        "        self.ys = fGrid\n",
        "        self.n = len(self.xs) - 1\n",
        "        self.ddSa = ddSa\n",
        "        self.ddSb = ddSb\n",
        "        self.coeffs = self.ComputeCoefficients(xGrid,fGrid)\n",
        "        \n",
        "    def ComputeCoefficients(self,xs,ys):\n",
        "        #    coeffs\n",
        "        n = len(xs) - 1\n",
        "        h = xs[1:] - xs[:-1]\n",
        "        assert(np.all(h >= 0))\n",
        "        #print(h)\n",
        "        a = h[:-1] / (h[:-1] + h[1:])\n",
        "        b = np.ones(n - 1) - a\n",
        "        a = np.append(a, [0,])\n",
        "        b = np.append([0,], b)\n",
        "        #print(a)\n",
        "        #print(b)\n",
        "        g = ys[1:] - ys[:-1]\n",
        "        gh = g / h\n",
        "        d = (g[1:] - g[:-1]) / (h[:-1] + h[1:])\n",
        "        d = np.concatenate(([2*self.ddSa,], 6*d, [2*self.ddSb,]))\n",
        "        #print('d', d)\n",
        "        #mat = scipy.sparse.diags((a, 2*np.ones(n+1), b), offsets=(-1, 0, 1)).toarray()\n",
        "        #print(mat)\n",
        "        #print('exp', np.linalg.solve(mat, d))\n",
        "        m = self._solve(a, 2*np.ones(n+1), b, d)\n",
        "        #print('got', np.matmul(mat, m))\n",
        "        self._postproc(m, h, ys)\n",
        "        self._compute = np.vectorize(lambda x: self._s(x))\n",
        "        return self.c\n",
        "\n",
        "    def _solve(self, a, b, c, d):\n",
        "        n = len(d)\n",
        "        p = [-c[0] / b[0],]\n",
        "        q = [d[0] / b[0],]\n",
        "        for i in range(1, n - 1):\n",
        "          p.append(c[i] / (-a[i-1]*p[i-1] -b[i]))\n",
        "          q.append((-d[i] + a[i-1] * q[i-1]) / (-a[i-1]*p[i-1] - b[i]))\n",
        "        #print('p', p)\n",
        "        #print('q', q)\n",
        "        x = [(d[n-1] - q[n-2]*a[n-2]) / (b[n-1] + p[n-2]*a[n-2]),]\n",
        "        #print(n-1, x[0])\n",
        "        for i in range(n - 2, -1, -1):\n",
        "          x.append(p[i]*x[-1] + q[i])\n",
        "          #print(i, x[-1])\n",
        "        #print(x)\n",
        "        return np.flip(x)\n",
        "\n",
        "    def _postproc(self, m, h, y):\n",
        "        c0 = m[:-1] / (6*h) # (x_i - x)^3\n",
        "        c1 = m[1:] / (6*h)  # (x - x_{i-1})^3\n",
        "        c2 = (y[:-1] - (m[:-1]*h*h)/6)/h  # (x_i - x)\n",
        "        c3 = (y[1:] - (m[1:]*h*h)/6)/h    # (x - x_{i-i})\n",
        "        self.c = np.array([c0, c1, c2, c3])\n",
        "        self.I = 0\n",
        "        for i in range(1, len(self.xs)):\n",
        "            a = self.xs[i]\n",
        "            b = self.xs[i-1]\n",
        "            #print(a, b, self._cI(a, i-1), self._cI(b, i-1), (self._cI(a, i-1) - self._cI(b, i-1)), sep='\\t')\n",
        "            self.I += (self._cI(a, i-1) - self._cI(b, i-1))\n",
        "        #print(self.c)\n",
        "\n",
        "    def _ci(self, x, i):\n",
        "        return self.c[0][i]*(self.xs[i+1] - x)**3 + \\\n",
        "               self.c[1][i]*(x - self.xs[i])**3 + \\\n",
        "               self.c[2][i]*(self.xs[i+1] - x) + \\\n",
        "               self.c[3][i]*(x - self.xs[i])\n",
        "\n",
        "    def _cI(self, x, i):\n",
        "        return -0.25*self.c[0][i]*(self.xs[i+1] - x)**4 + \\\n",
        "               0.25*self.c[1][i]*(x - self.xs[i])**4 + \\\n",
        "               -0.5*self.c[2][i]*(self.xs[i+1] - x)**2 + \\\n",
        "               0.5*self.c[3][i]*(x - self.xs[i])**2\n",
        "\n",
        "    def _s(self, x):\n",
        "        if x < self.xs[0] or self.xs[-1] < x:\n",
        "          raise Exception('undefined')\n",
        "        i = 0\n",
        "        while self.xs[i+1] < x:\n",
        "          i+=1 \n",
        "        return self._ci(x, i)\n",
        "\n",
        "    def Compute(self,x):\n",
        "        return self._compute(x)\n",
        "    \n",
        "def NewtonCotesIntegral(xs,fs):\n",
        "    def __init__(self,xs,fs, N):\n",
        "        self.pni = PiecewiseNewtonInterpolator(xs, fs)\n",
        "\n",
        "    def Compute(self):\n",
        "        return self.pni.I\n",
        "\n",
        "def CubicSplineIntegral(xs,fs):\n",
        "    def __init__(self,xs,fs, N):\n",
        "        self.csi = CubicSplineInterpolator(xs, fs)\n",
        "\n",
        "    def Compute(self):\n",
        "        return self.pni.I\n",
        "    "
      ],
      "execution_count": 0,
      "outputs": []
    },
    {
      "cell_type": "code",
      "metadata": {
        "id": "4zs__C4DLAog",
        "colab_type": "code",
        "colab": {}
      },
      "source": [
        ""
      ],
      "execution_count": 0,
      "outputs": []
    },
    {
      "cell_type": "code",
      "metadata": {
        "id": "EOhuZdesLBtD",
        "colab_type": "code",
        "colab": {
          "base_uri": "https://localhost:8080/",
          "height": 34
        },
        "outputId": "3f92f399-5562-438f-d771-d8b6cbe471e4"
      },
      "source": [
        "xs = np.array([1, 2, 3, 4, 5])\n",
        "np.concatenate((xs[1:2], xs[(2+1):]))\n",
        "xs[1:2]\n",
        "np.array(42)"
      ],
      "execution_count": 43,
      "outputs": [
        {
          "output_type": "execute_result",
          "data": {
            "text/plain": [
              "array(42)"
            ]
          },
          "metadata": {
            "tags": []
          },
          "execution_count": 43
        }
      ]
    },
    {
      "cell_type": "markdown",
      "metadata": {
        "id": "raNZhY16zjT1",
        "colab_type": "text"
      },
      "source": [
        "Протестируем."
      ]
    },
    {
      "cell_type": "code",
      "metadata": {
        "id": "l9yg1ILUzjT4",
        "colab_type": "code",
        "outputId": "ca5dc573-7759-455c-8f05-48834c627e36",
        "colab": {
          "base_uri": "https://localhost:8080/",
          "height": 733
        }
      },
      "source": [
        "def testF(x):\n",
        "    return 3*np.exp(-x**2) + 0.1* np.cosh(x) + 0.5*np.sin(2*np.pi*x)\n",
        "\n",
        "N=10#number of points in the grid\n",
        "x0=0\n",
        "x1=3\n",
        "h=(x1-x0)/(N-1)\n",
        "\n",
        "xs = np.arange(x0,x1+h/2,h)\n",
        "fs = testF(xs)\n",
        "\n",
        "#Compute interpoants\n",
        "interpolators = [PiecewiseNewtonInterpolator(xs,fs, 2), PiecewiseNewtonInterpolator(xs,fs, 4),CubicSplineInterpolator(xs,fs)]\n",
        "#Compute their values on the Dense grid\n",
        "#interpFs =\n",
        "\n",
        "xsDense = np.arange(x0,x1+h/20,h/10)#for visualization solely\n",
        "fsDense = testF(xsDense)\n",
        "fs0 = interpolators[0].Compute(xsDense)\n",
        "fs1 = interpolators[1].Compute(xsDense)\n",
        "fs2 = interpolators[2].Compute(xsDense)\n",
        "f,ax = plt.subplots(figsize=(12,12))\n",
        "\n",
        "ax.grid()\n",
        "ax.set_title('Function Plot')\n",
        "ax.scatter(xs,fs, label='Knots')\n",
        "ax.plot(xsDense,fsDense, label='f(x)')\n",
        "ax.plot(xsDense,fs0, label=interpolators[0].name())\n",
        "ax.plot(xsDense,fs1, label=interpolators[1].name())\n",
        "ax.plot(xsDense,fs2, label=interpolators[2].name())\n",
        "ax.legend()"
      ],
      "execution_count": 157,
      "outputs": [
        {
          "output_type": "execute_result",
          "data": {
            "text/plain": [
              "<matplotlib.legend.Legend at 0x7f16a950b320>"
            ]
          },
          "metadata": {
            "tags": []
          },
          "execution_count": 157
        },
        {
          "output_type": "display_data",
          "data": {
            "image/png": "[encoded data removed]",
            "text/plain": [
              "<Figure size 864x864 with 1 Axes>"
            ]
          },
          "metadata": {
            "tags": []
          }
        }
      ]
    },
    {
      "cell_type": "code",
      "metadata": {
        "id": "Nvs8AGQ8krDy",
        "colab_type": "code",
        "colab": {
          "base_uri": "https://localhost:8080/",
          "height": 86
        },
        "outputId": "47264a74-cff1-4a07-d464-e961f9ffef04"
      },
      "source": [
        "\n",
        "# Похоже, интегрирование работает\n",
        "\n",
        "def testFI(x):\n",
        "    # Wolfram: integrate 3*exp(-x**2) + 0.1* cosh(x) + 0.5*sin(2*pi*x)\n",
        "    return 0.1 *(-0.795775*np.cos(6.28319*x) + 26.5868*scipy.special.erf(x) + np.sinh(x))\n",
        "\n",
        "I = testFI(3) - testFI(0)\n",
        "print(I)\n",
        "for i in interpolators:\n",
        "  print(i.I)"
      ],
      "execution_count": 158,
      "outputs": [
        {
          "output_type": "stream",
          "text": [
            "3.660408761186316\n",
            "3.6696487276937617\n",
            "3.6605196827473296\n",
            "3.6650083888029896\n"
          ],
          "name": "stdout"
        }
      ]
    },
    {
      "cell_type": "markdown",
      "metadata": {
        "id": "GHhzUeD9zjUF",
        "colab_type": "text"
      },
      "source": [
        "#### Исследование сходимости (15 баллов)\n",
        "\n",
        "Нарисуйте ошибку интегрирования $\\left\\vert \\int_a^b f(x)dx - Integrator(xs,fs) \\right\\vert$ для реализованных интеграторов при разных сетках на элементарных отрезках (равномерная, чебышёвская) и разном числе узлов $N$. Какой метод является точнее? Попробуйте оценить порядок точности схемы экспериментально с помощью рассмотрения графика в $log-log$ осях. Как с его помощью можно оценить порядок точности?\n",
        "\n",
        "Примечание: для вычисления точного значения интеграла можете использовать какой-нибудь очень точный метод; например, что-то из scipy.integrate или wolfram."
      ]
    },
    {
      "cell_type": "code",
      "metadata": {
        "id": "mvgUJiBOl2G_",
        "colab_type": "code",
        "colab": {}
      },
      "source": [
        "def err(N):\n",
        "  x0=0\n",
        "  x1=3\n",
        "  h=(x1-x0)/(N-1)\n",
        "\n",
        "  xs = np.arange(x0,x1+h/2,h)\n",
        "  fs = testF(xs)\n",
        "\n",
        "  interpolators = [PiecewiseNewtonInterpolator(xs,fs, 2), PiecewiseNewtonInterpolator(xs,fs, 3), PiecewiseNewtonInterpolator(xs,fs, 4), PiecewiseNewtonInterpolator(xs,fs, 5), CubicSplineInterpolator(xs,fs)]\n",
        "  errs = [abs(I - x.I) for x in interpolators]\n",
        "  names = [x.name() for x in interpolators]\n",
        "  return errs, names\n",
        "\n"
      ],
      "execution_count": 0,
      "outputs": []
    },
    {
      "cell_type": "code",
      "metadata": {
        "id": "KhB86paNl2ZR",
        "colab_type": "code",
        "colab": {
          "base_uri": "https://localhost:8080/",
          "height": 885
        },
        "outputId": "2982a57e-352c-4983-dcc9-0ce5d47e1e84"
      },
      "source": [
        "_, names = err(13)\n",
        "\n",
        "# (N-1) должно делиться на 4, 3 и 2 т.е. на 12\n",
        "Ns = range(13, 122, 12)\n",
        "errs = [list() for x in range(0, len(names))]\n",
        "\n",
        "for i in range(0, len(Ns)):\n",
        "  e, _ = err(Ns[i])\n",
        "  for j in range(0, len(names)):\n",
        "    errs[j].append(e[j])\n",
        "\n",
        "errs"
      ],
      "execution_count": 150,
      "outputs": [
        {
          "output_type": "execute_result",
          "data": {
            "text/plain": [
              "[[0.005201773216899408,\n",
              "  0.0013019775693119406,\n",
              "  0.0005791663065828345,\n",
              "  0.0003261361092374848,\n",
              "  0.00020901115631577483,\n",
              "  0.00014538557178234157,\n",
              "  0.00010702061854050982,\n",
              "  8.211999336493747e-05,\n",
              "  6.504807253016054e-05,\n",
              "  5.28365610330539e-05],\n",
              " [2.112158710732004e-05,\n",
              "  2.045686800844493e-06,\n",
              "  1.0269651151695314e-06,\n",
              "  8.556226940292788e-07,\n",
              "  8.08807754992813e-07,\n",
              "  7.91993471693786e-07,\n",
              "  7.847846408282066e-07,\n",
              "  7.812884272873077e-07,\n",
              "  7.794221037471516e-07,\n",
              "  7.783553228613016e-07],\n",
              " [4.6569546000796436e-05,\n",
              "  3.634276985575724e-06,\n",
              "  1.340444404807073e-06,\n",
              "  9.54768386129956e-07,\n",
              "  8.494687460114392e-07,\n",
              "  8.114862994901273e-07,\n",
              "  7.954705796286987e-07,\n",
              "  7.874458756162994e-07,\n",
              "  7.833599702244953e-07,\n",
              "  7.811928535161883e-07],\n",
              " [6.916665005629596e-06,\n",
              "  7.739873764123217e-07,\n",
              "  7.761120905946939e-07,\n",
              "  7.76315971950936e-07,\n",
              "  7.757254265605695e-07,\n",
              "  7.719742018963416e-07,\n",
              "  7.722053663172801e-07,\n",
              "  7.800498820209611e-07,\n",
              "  7.936869090841014e-07,\n",
              "  7.759928091211066e-07],\n",
              " [0.0034229733836719234,\n",
              "  0.0011103354916284225,\n",
              "  0.000525274594516123,\n",
              "  0.0003040038699064773,\n",
              "  0.0001978640226552031,\n",
              "  0.0001390057472296924,\n",
              "  0.00010303493095653593,\n",
              "  7.946592437280131e-05,\n",
              "  6.319278757516145e-05,\n",
              "  5.148916108410617e-05]]"
            ]
          },
          "metadata": {
            "tags": []
          },
          "execution_count": 150
        }
      ]
    },
    {
      "cell_type": "code",
      "metadata": {
        "id": "5BJ8Ezxb1_rN",
        "colab_type": "code",
        "colab": {
          "base_uri": "https://localhost:8080/",
          "height": 717
        },
        "outputId": "855ec6e8-0ab4-4ad3-9a2b-245e6e37e632"
      },
      "source": [
        "f,ax = plt.subplots(figsize=(12,12))\n",
        "\n",
        "ax.grid()\n",
        "for i in range(0, len(names)):\n",
        "  ax.scatter(Ns,errs[i], label=names[i])\n",
        "ax.legend()"
      ],
      "execution_count": 156,
      "outputs": [
        {
          "output_type": "execute_result",
          "data": {
            "text/plain": [
              "<matplotlib.legend.Legend at 0x7f16a9268c18>"
            ]
          },
          "metadata": {
            "tags": []
          },
          "execution_count": 156
        },
        {
          "output_type": "display_data",
          "data": {
            "image/png": "[encoded data removed]",
            "text/plain": [
              "<Figure size 864x864 with 1 Axes>"
            ]
          },
          "metadata": {
            "tags": []
          }
        }
      ]
    },
    {
      "cell_type": "code",
      "metadata": {
        "id": "xWkRI9--2d2h",
        "colab_type": "code",
        "colab": {
          "base_uri": "https://localhost:8080/",
          "height": 717
        },
        "outputId": "df13b773-4239-42da-f838-bd73d31c8bde"
      },
      "source": [
        "f,ax = plt.subplots(figsize=(12,12))\n",
        "\n",
        "ax.grid()\n",
        "for i in range(0, len(names)):\n",
        "  ax.scatter(Ns,np.log(errs[i]), label=names[i])\n",
        "ax.legend()"
      ],
      "execution_count": 159,
      "outputs": [
        {
          "output_type": "execute_result",
          "data": {
            "text/plain": [
              "<matplotlib.legend.Legend at 0x7f16a93dbc18>"
            ]
          },
          "metadata": {
            "tags": []
          },
          "execution_count": 159
        },
        {
          "output_type": "display_data",
          "data": {
            "image/png": "[encoded data removed]",
            "text/plain": [
              "<Figure size 864x864 with 1 Axes>"
            ]
          },
          "metadata": {
            "tags": []
          }
        }
      ]
    },
    {
      "cell_type": "code",
      "metadata": {
        "id": "KUMj2toD2BPI",
        "colab_type": "code",
        "colab": {}
      },
      "source": [
        ""
      ],
      "execution_count": 0,
      "outputs": []
    },
    {
      "cell_type": "markdown",
      "metadata": {
        "id": "QsqGv-iUzjUS",
        "colab_type": "text"
      },
      "source": [
        ""
      ]
    },
    {
      "cell_type": "markdown",
      "metadata": {
        "id": "YEeJuq4HzjUV",
        "colab_type": "text"
      },
      "source": [
        "## Простейшие матричные разложения (70 баллов)\n",
        "\n",
        "На лекции разбирался метод $LU$-разложения, который является матричной записью метода Гаусса. В этом задании мы исследуем его работу и устойчивость, а также разберём ещё одно важное матричное разложение -- разложение Холецкого. Для простоты будем работать с вещественными квадратными матрицами.\n",
        "\n",
        "### LU (15 баллов)\n",
        "\n",
        "Это разложение определено для любой невырожденной $n \\times n$ матрицы $A$ и записывается как $A=LU$, где $L$ -- нижнетреугольная $n \\times n$ матрица, $U$ -- верхнетреугольная. Почему такое разложение неединственно и как добиться единственности?\n",
        "\n",
        "Прямое вычисление $LU$ разложения неустойчиво, поэтому обычно дополнительно используют выбор главного элемента по строке и столбцу.\n",
        "\n",
        "Выведите формулы для вычисления $LU$-разложения и опишите как использовать выбор главного элемента.\n",
        "\n",
        "#### ВАШЕ РЕШЕНИЕ ЗДЕСЬ\n",
        "\n",
        "Теперь имплементируйте."
      ]
    },
    {
      "cell_type": "code",
      "metadata": {
        "id": "o_cnX4OgzjUY",
        "colab_type": "code",
        "colab": {}
      },
      "source": [
        "def LUDecomposition(A):\n",
        "    #IN:\n",
        "    # A [n,n] -- matrix to decompose\n",
        "    #OUT:\n",
        "    # LU [n,n] -- matrix decomposition represented as one matrix (think on how to do it!)\n",
        "    pass"
      ],
      "execution_count": 0,
      "outputs": []
    },
    {
      "cell_type": "markdown",
      "metadata": {
        "id": "SYuFOli4zjUf",
        "colab_type": "text"
      },
      "source": [
        "### Разложение Холецкого (15 баллов)\n",
        "\n",
        "Разложение Холецкого определено для любой положительно определённой симметричной матрицы $A$ и определяется как $A=LL^*$, где $L$ -- нижнетреугольная $n \\times n$ матрица.\n",
        "\n",
        "Выведите формулы для вычисления разложения Холецкого.\n",
        "\n",
        "#### ВАШЕ РЕШЕНИЕ ЗДЕСЬ\n",
        "\n",
        "Имплементируйте метод."
      ]
    },
    {
      "cell_type": "code",
      "metadata": {
        "id": "B1MAP64rzjUj",
        "colab_type": "code",
        "colab": {}
      },
      "source": [
        "def CholetskyDecomposition(A):\n",
        "    #IN:\n",
        "    # A [n,n] -- matrix to decompose\n",
        "    #OUT:\n",
        "    # L [n(n+1)/2] -- matrix decomposition represented as 1-dimensional array (think on how to do it!)\n",
        "    pass"
      ],
      "execution_count": 0,
      "outputs": []
    },
    {
      "cell_type": "code",
      "metadata": {
        "id": "le6Xw4qQzjUu",
        "colab_type": "code",
        "colab": {}
      },
      "source": [
        "#Let us check if all works\n",
        "#print np.linalg.norm(A - L@U) for LU\n",
        "#print np.linalg.norm(A - LL*) for Choletsky"
      ],
      "execution_count": 0,
      "outputs": []
    },
    {
      "cell_type": "markdown",
      "metadata": {
        "id": "ZkljgBJjzjU1",
        "colab_type": "text"
      },
      "source": [
        "Разложения используют для решения очень многих задач линейной алгебры: для вычисления определителя, решения СЛАУ, нахождения обратной матрицы...\n",
        "\n",
        "Здесь мы будем заниматься решением СЛАУ. Опишите формулы, по которым можно вычислить решение СЛАУ, имея разложение Холецкого или $LU$.\n",
        "\n",
        "### Случайные матрицы из гауссовского распределения (10 баллов)\n",
        "\n",
        "Случайные матрицы \n",
        "$$\n",
        "A=(a_{ij}), \\quad a_{ij} \\sim^{iid} \\mathcal{N}(0,10)\n",
        "$$\n",
        "известны своими хорошими свойствами обусловленности, поэтому прямые методы, такие, как $LU$, должны работать очень точно.\n",
        "\n",
        "Нарисуйте два графика:\n",
        "1. График среднего (усредните по $K=1000$ симуляциям) числа обусловленности матрицы $AA^*$ в зависимости от размера $n$;\n",
        "2. График средней (усредните по $K=1000$ симуляциям) относительной ошибки решения c помощью $LU$ и разложения Холецкого системы уравнений с матрицей $AA^*$ правой частью $f=1$;"
      ]
    },
    {
      "cell_type": "code",
      "metadata": {
        "id": "JyiDsY8HzjU5",
        "colab_type": "code",
        "colab": {}
      },
      "source": [
        "#YOUR CODE HERE"
      ],
      "execution_count": 0,
      "outputs": []
    },
    {
      "cell_type": "markdown",
      "metadata": {
        "id": "e4CGuyoszjVC",
        "colab_type": "text"
      },
      "source": [
        "### Матрица Гильберта (15 баллов)\n",
        "\n",
        "Матрица Гильберта -- это матрица $H=(h_{ij})$ с элементами  $h_{ij}=1/(i+j-1)$.\n",
        "\n",
        "Докажите, что эта матрица положительно определена (5 баллов).\n",
        "#### ВАШЕ РЕШЕНИЕ ЗДЕСЬ\n",
        "\n",
        "Нарисуйте два графика(10 баллов):\n",
        "1. График числа обусловленности матрицы $H$ в зависимости от размера $n$;\n",
        "2. График относительной ошибки решения c помощью $LU$ и разложения Холецкого системы уравнений с матрицей $H$ правой частью $f=1$."
      ]
    },
    {
      "cell_type": "code",
      "metadata": {
        "id": "ZyoBKZKSzjVF",
        "colab_type": "code",
        "colab": {}
      },
      "source": [
        "#YOUR CODE HERE"
      ],
      "execution_count": 0,
      "outputs": []
    },
    {
      "cell_type": "markdown",
      "metadata": {
        "id": "9tBic9YVzjVO",
        "colab_type": "text"
      },
      "source": [
        "Сделайте выводы по проделанным экспериментам."
      ]
    },
    {
      "cell_type": "markdown",
      "metadata": {
        "id": "ekxf3tyEzjVQ",
        "colab_type": "text"
      },
      "source": [
        "### Семплирование из гауссовского распределения с заданной ковариационной матрицей (15 баллов)\n",
        "\n",
        "Очень частая задача в статистике -- семплирование из многомерного гауссовского распределения с заданной ковариацией. В частности, в регрессии гауссовскими процессами.\n",
        "\n",
        "Вещественнозначным случайным процессом (проиндексированным некоторым абстрактным множеством $T$) назовём семейство случайных величин $(X_t)_{t \\in T}$. Такой процесс называется гауссовским, если для любого $N$ и любых $N$ точек $t_i \\in T, i=1,..,N$ совместное распределение величин $X_{t_i}$ является гауссовским. Любой гауссовский процесс определяется своими средним $\\mu(t)= E\\left[ X_t \\right]$ и ковариационной функцией $K(t,s):=Cov(X_t,X_s)$, определённых для $t,s \\in T$. Положим для простоты $T= R$, так процесс проиндексирован вещественной прямой.\n",
        "\n",
        "Гауссовские процессы -- очень мощный интрумент регрессии, но про него расскажут в других курсах.\n",
        "\n",
        "Давайте попробуем семплировать несколько траекторий такого процесса. Поскольку процесс -- гауссовский, семплирование сводится к семплированию из гауссовского распределения с заданным средним $\\mu$ и ковариацией $\\Sigma$.\n",
        "\n",
        "Опишите и обоснуйте метод семплирования, который использует разложение Холецкого матрицы $\\Sigma \\in R^{n \\times n}$ и принимает на вход семплы из стандартного гауссовского распределения $\\mathcal{N}(0,1)^n$ (np.random.randn).\n",
        "\n",
        "Имплементируйте класс GaussianProcess ниже.\n",
        "\n",
        "Нарисуйте два графика:\n",
        "1. Семплы на сетке ts траекторий белого шума $X_t \\sim \\mathcal{N}(0,1)$, можете использовать тот же класс с нулевым средним и ковариацией $K(t,t)=1, K(t,s)=0$ для всех $t \\neq s$;\n",
        "2. Семплы на сетке ts траекторий гауссовского процесса.\n",
        "\n",
        "Для (2) попробуйте два разных средних $\\mu(t)$ и (например) такие ковариационные функции:\n",
        "1. Exp-Sine-Squared (с параметрами $p,l$)\n",
        "$$\n",
        "K(t,s) = exp\\left\\lbrace -2\\left(\\frac{sin(\\pi/p \\cdot \\vert t-s \\vert)}{l}\\right)^2 \\right\\rbrace;\n",
        "$$\n",
        "2. Rational quadratic (с параметрами $\\alpha, l$ )\n",
        "$$\n",
        "K(t,s)=\\left(1+\\frac{( t - s )^2}{2 \\alpha l^2}\\right)^{-\\alpha}.\n",
        "$$\n",
        "Большой выбор ковариационных функций представлен в sklearn (https://scikit-learn.org/stable/modules/gaussian_process.html)."
      ]
    },
    {
      "cell_type": "code",
      "metadata": {
        "id": "WR2f2TiYzjVS",
        "colab_type": "code",
        "colab": {}
      },
      "source": [
        "class GaussianProcess:\n",
        "    def __init__(self, meanFunction, covarianceFunction):\n",
        "        #meanFunction functionHandler: R -> R\n",
        "        #covarianceFunction functionHandler: R x R -> R\n",
        "        pass\n",
        "    def Sample(self, ts, N):\n",
        "        #ts [batch] -- time grid of points where the value of the process is required\n",
        "        #N -- number of sampled trajectories\n",
        "        pass"
      ],
      "execution_count": 0,
      "outputs": []
    },
    {
      "cell_type": "code",
      "metadata": {
        "id": "k7lQkf4hzjVa",
        "colab_type": "code",
        "colab": {}
      },
      "source": [
        "#YOUR DRAWINGS!"
      ],
      "execution_count": 0,
      "outputs": []
    },
    {
      "cell_type": "code",
      "metadata": {
        "id": "202RHx7nzjVl",
        "colab_type": "code",
        "colab": {}
      },
      "source": [
        ""
      ],
      "execution_count": 0,
      "outputs": []
    }
  ]
}